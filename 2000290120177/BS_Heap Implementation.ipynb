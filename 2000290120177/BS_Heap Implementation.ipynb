{
 "cells": [
  {
   "cell_type": "markdown",
   "id": "af50e461",
   "metadata": {},
   "source": [
    "### Implementation of Binary Search (BS):"
   ]
  },
  {
   "cell_type": "code",
   "execution_count": 1,
   "id": "f4811a27",
   "metadata": {},
   "outputs": [
    {
     "name": "stdout",
     "output_type": "stream",
     "text": [
      "Enter the numbers: 1 3 5 7 9\n",
      "Enter Target number:5\n"
     ]
    },
    {
     "data": {
      "text/plain": [
       "2"
      ]
     },
     "execution_count": 1,
     "metadata": {},
     "output_type": "execute_result"
    }
   ],
   "source": [
    "def binary_search(arr, target):\n",
    "    low, high = 0, len(arr) - 1\n",
    "\n",
    "    while low <= high:\n",
    "        mid = (low + high) // 2\n",
    "        if arr[mid] == target:\n",
    "            return mid\n",
    "        elif arr[mid] < target:\n",
    "            low = mid + 1\n",
    "        else:\n",
    "            high = mid - 1\n",
    "\n",
    "    return -1\n",
    "lst=list(map(int,input(\"Enter the numbers: \").split()))\n",
    "target=int(input(\"Enter Target number:\"))\n",
    "binary_search(lst,target)"
   ]
  },
  {
   "cell_type": "markdown",
   "id": "662393ff",
   "metadata": {},
   "source": [
    "### Complexity of Binary Search:\n",
    "\n",
    "#### Time Complexity: O(log n)\n",
    "Binary search has a time complexity of O(log n) because with each iteration, the search space is halved. It efficiently reduces the number of elements to search by half at each step. As a result, even for large arrays, binary search finds the target element in a relatively small number of iterations.\n",
    "\n",
    "#### Space Complexity: O(1)\n",
    "Binary search uses a constant amount of additional space, as it only requires a few extra variables (low, high, mid) to perform the search. Thus, its space complexity is O(1), indicating that it has a constant space overhead regardless of the input size."
   ]
  },
  {
   "cell_type": "markdown",
   "id": "a75e1b3f",
   "metadata": {},
   "source": [
    "   "
   ]
  },
  {
   "cell_type": "markdown",
   "id": "94b97074",
   "metadata": {},
   "source": [
    "### Implementation of Heap:\n",
    "\n"
   ]
  },
  {
   "cell_type": "code",
   "execution_count": 2,
   "id": "6832f591",
   "metadata": {},
   "outputs": [
    {
     "name": "stdout",
     "output_type": "stream",
     "text": [
      "1. Add element to heap\n",
      "2. Remove the smallest element from heap\n",
      "3. Peek the smallest element from heap\n",
      "4. Print the current heap\n",
      "5. Exit\n",
      "Enter your choice (1-5): 1\n",
      "Enter the element to add: 2\n",
      "1. Add element to heap\n",
      "2. Remove the smallest element from heap\n",
      "3. Peek the smallest element from heap\n",
      "4. Print the current heap\n",
      "5. Exit\n",
      "Enter your choice (1-5): 1\n",
      "Enter the element to add: 3\n",
      "1. Add element to heap\n",
      "2. Remove the smallest element from heap\n",
      "3. Peek the smallest element from heap\n",
      "4. Print the current heap\n",
      "5. Exit\n",
      "Enter your choice (1-5): 4\n",
      "Current heap: [2, 3]\n",
      "1. Add element to heap\n",
      "2. Remove the smallest element from heap\n",
      "3. Peek the smallest element from heap\n",
      "4. Print the current heap\n",
      "5. Exit\n",
      "Enter your choice (1-5): 1\n",
      "Enter the element to add: 6\n",
      "1. Add element to heap\n",
      "2. Remove the smallest element from heap\n",
      "3. Peek the smallest element from heap\n",
      "4. Print the current heap\n",
      "5. Exit\n",
      "Enter your choice (1-5): 4\n",
      "Current heap: [2, 3, 6]\n",
      "1. Add element to heap\n",
      "2. Remove the smallest element from heap\n",
      "3. Peek the smallest element from heap\n",
      "4. Print the current heap\n",
      "5. Exit\n",
      "Enter your choice (1-5): 3\n",
      "Smallest element in the heap: 2\n",
      "1. Add element to heap\n",
      "2. Remove the smallest element from heap\n",
      "3. Peek the smallest element from heap\n",
      "4. Print the current heap\n",
      "5. Exit\n",
      "Enter your choice (1-5): 3\n",
      "Smallest element in the heap: 2\n",
      "1. Add element to heap\n",
      "2. Remove the smallest element from heap\n",
      "3. Peek the smallest element from heap\n",
      "4. Print the current heap\n",
      "5. Exit\n",
      "Enter your choice (1-5): 5\n",
      "Exiting...\n"
     ]
    }
   ],
   "source": [
    "import heapq\n",
    "\n",
    "class MinHeap:\n",
    "    def __init__(self):\n",
    "        self.heap = []\n",
    "\n",
    "    def push(self, item):\n",
    "        heapq.heappush(self.heap, item)\n",
    "\n",
    "    def pop(self):\n",
    "        if self.is_empty():\n",
    "            raise IndexError(\"Heap is empty, cannot pop.\")\n",
    "        return heapq.heappop(self.heap)\n",
    "\n",
    "    def peek(self):\n",
    "        if self.is_empty():\n",
    "            raise IndexError(\"Heap is empty, cannot peek.\")\n",
    "        return self.heap[0]\n",
    "\n",
    "    def is_empty(self):\n",
    "        return len(self.heap) == 0\n",
    "\n",
    "    def size(self):\n",
    "        return len(self.heap)\n",
    "\n",
    "if __name__ == \"__main__\":\n",
    "    heap = MinHeap()\n",
    "\n",
    "    while True:\n",
    "        print(\"1. Add element to heap\")\n",
    "        print(\"2. Remove the smallest element from heap\")\n",
    "        print(\"3. Peek the smallest element from heap\")\n",
    "        print(\"4. Print the current heap\")\n",
    "        print(\"5. Exit\")\n",
    "        choice = int(input(\"Enter your choice (1-5): \"))\n",
    "\n",
    "        if choice == 1:\n",
    "            element = int(input(\"Enter the element to add: \"))\n",
    "            heap.push(element)\n",
    "        elif choice == 2:\n",
    "            if heap.is_empty():\n",
    "                print(\"Heap is empty.\")\n",
    "            else:\n",
    "                smallest_element = heap.pop()\n",
    "                print(\"Removed the smallest element:\", smallest_element)\n",
    "        elif choice == 3:\n",
    "            if heap.is_empty():\n",
    "                print(\"Heap is empty.\")\n",
    "            else:\n",
    "                smallest_element = heap.peek()\n",
    "                print(\"Smallest element in the heap:\", smallest_element)\n",
    "        elif choice == 4:\n",
    "            if heap.is_empty():\n",
    "                print(\"Heap is empty.\")\n",
    "            else:\n",
    "                print(\"Current heap:\", heap.heap)\n",
    "        elif choice == 5:\n",
    "            print(\"Exiting...\")\n",
    "            break\n",
    "        else:\n",
    "            print(\"Invalid choice. Please enter a valid option (1-5).\")"
   ]
  },
  {
   "cell_type": "markdown",
   "id": "6cf3201d",
   "metadata": {},
   "source": [
    "### Complexity of Heap:\n",
    "\n",
    "#### Time Complexity:\n",
    "Insertion (push): O(log n)<br>\n",
    "Deletion (pop): O(log n)<br>\n",
    "Peek: O(1)<br>\n",
    "The time complexity for insertion and deletion in a heap is O(log n), where n is the number of elements in the heap. This is because these operations involve adjusting the heap structure to maintain the heap property. The peek operation has a constant time complexity of O(1) as it only accesses the smallest element without modifying the heap's structure.\n",
    "\n",
    "#### Space Complexity:\n",
    "The space complexity of a heap is O(n), where n is the number of elements in the heap. It is because the heap needs to store the elements in an array-based structure.\n",
    "\n",
    "\n",
    "\n"
   ]
  },
  {
   "cell_type": "code",
   "execution_count": null,
   "id": "ba867429",
   "metadata": {},
   "outputs": [],
   "source": []
  }
 ],
 "metadata": {
  "kernelspec": {
   "display_name": "Python 3 (ipykernel)",
   "language": "python",
   "name": "python3"
  },
  "language_info": {
   "codemirror_mode": {
    "name": "ipython",
    "version": 3
   },
   "file_extension": ".py",
   "mimetype": "text/x-python",
   "name": "python",
   "nbconvert_exporter": "python",
   "pygments_lexer": "ipython3",
   "version": "3.9.13"
  }
 },
 "nbformat": 4,
 "nbformat_minor": 5
}
