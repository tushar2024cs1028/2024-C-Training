{
 "cells": [
  {
   "cell_type": "markdown",
   "id": "91e8a06f",
   "metadata": {},
   "source": [
    "## 0-1 knapsack problem code "
   ]
  },
  {
   "cell_type": "code",
   "execution_count": 1,
   "id": "49e62927",
   "metadata": {},
   "outputs": [
    {
     "name": "stdout",
     "output_type": "stream",
     "text": [
      "Maximum value: 10\n",
      "Selected items: [0, 1]\n"
     ]
    }
   ],
   "source": [
    "def knapsack_01(weights, values, capacity):\n",
    "    n = len(weights)\n",
    "    dp = [[0 for _ in range(capacity + 1)] for _ in range(n + 1)]\n",
    "\n",
    "    for i in range(1, n + 1):\n",
    "        for w in range(1, capacity + 1):\n",
    "            if weights[i - 1] <= w:\n",
    "                dp[i][w] = max(values[i - 1] + dp[i - 1][w - weights[i - 1]], dp[i - 1][w])\n",
    "            else:\n",
    "                dp[i][w] = dp[i - 1][w]\n",
    "\n",
    "    selected_items = []\n",
    "    i, w = n, capacity\n",
    "    while i > 0 and w > 0:\n",
    "        if dp[i][w] != dp[i - 1][w]:\n",
    "            selected_items.append(i - 1)\n",
    "            w -= weights[i - 1]\n",
    "        i -= 1\n",
    "\n",
    "    selected_items.reverse()\n",
    "\n",
    "    return dp[n][capacity], selected_items\n",
    "\n",
    "# Example usage:\n",
    "weights = [2, 3, 4, 5]\n",
    "values = [3, 7, 2, 9]\n",
    "capacity = 5\n",
    "max_value, selected_items = knapsack_01(weights, values, capacity)\n",
    "\n",
    "print(\"Maximum value:\", max_value)\n",
    "print(\"Selected items:\", selected_items)"
   ]
  },
  {
   "cell_type": "markdown",
   "id": "dad73058",
   "metadata": {},
   "source": [
    "## LCS alog code"
   ]
  },
  {
   "cell_type": "code",
   "execution_count": 2,
   "id": "7adf8331",
   "metadata": {},
   "outputs": [
    {
     "name": "stdout",
     "output_type": "stream",
     "text": [
      "Longest Common Subsequence: GTAB\n"
     ]
    }
   ],
   "source": [
    "def longest_common_subsequence(str1, str2):\n",
    "    m, n = len(str1), len(str2)\n",
    "    dp = [[0 for _ in range(n + 1)] for _ in range(m + 1)]\n",
    "\n",
    "    for i in range(1, m + 1):\n",
    "        for j in range(1, n + 1):\n",
    "            if str1[i - 1] == str2[j - 1]:\n",
    "                dp[i][j] = dp[i - 1][j - 1] + 1\n",
    "            else:\n",
    "                dp[i][j] = max(dp[i - 1][j], dp[i][j - 1])\n",
    "\n",
    "    # Backtrack to find the LCS\n",
    "    lcs = []\n",
    "    i, j = m, n\n",
    "    while i > 0 and j > 0:\n",
    "        if str1[i - 1] == str2[j - 1]:\n",
    "            lcs.append(str1[i - 1])\n",
    "            i -= 1\n",
    "            j -= 1\n",
    "        elif dp[i - 1][j] > dp[i][j - 1]:\n",
    "            i -= 1\n",
    "        else:\n",
    "            j -= 1\n",
    "\n",
    "    lcs.reverse()\n",
    "    return ''.join(lcs)\n",
    "\n",
    "# Example usage:\n",
    "str1 = \"AGGTAB\"\n",
    "str2 = \"GXTXAYB\"\n",
    "result = longest_common_subsequence(str1, str2)\n",
    "print(\"Longest Common Subsequence:\", result)"
   ]
  },
  {
   "cell_type": "markdown",
   "id": "d04d98a0",
   "metadata": {},
   "source": [
    "## MCM algo code"
   ]
  },
  {
   "cell_type": "code",
   "execution_count": 3,
   "id": "f191bf43",
   "metadata": {},
   "outputs": [
    {
     "name": "stdout",
     "output_type": "stream",
     "text": [
      "Minimum scalar multiplications: 4500\n"
     ]
    }
   ],
   "source": [
    "def matrix_chain_multiplication(dims):\n",
    "    n = len(dims) - 1  # Number of matrices\n",
    "    dp = [[float('inf') for _ in range(n)] for _ in range(n)]\n",
    "\n",
    "    # Base case: the cost of multiplying a single matrix is 0.\n",
    "    for i in range(n):\n",
    "        dp[i][i] = 0\n",
    "\n",
    "    for length in range(2, n + 1):  # Length of the chain\n",
    "        for i in range(n - length + 1):\n",
    "            j = i + length - 1\n",
    "            for k in range(i, j):\n",
    "                cost = dp[i][k] + dp[k + 1][j] + dims[i] * dims[k + 1] * dims[j + 1]\n",
    "                dp[i][j] = min(dp[i][j], cost)\n",
    "\n",
    "    return dp[0][n - 1]\n",
    "\n",
    "# Example usage:\n",
    "matrix_dimensions = [10, 30, 5, 60]\n",
    "min_scalar_multiplications = matrix_chain_multiplication(matrix_dimensions)\n",
    "print(\"Minimum scalar multiplications:\", min_scalar_multiplications)"
   ]
  },
  {
   "cell_type": "markdown",
   "id": "2308df01",
   "metadata": {},
   "source": [
    "## unbouned knapsack code"
   ]
  },
  {
   "cell_type": "code",
   "execution_count": 4,
   "id": "92c011c1",
   "metadata": {},
   "outputs": [
    {
     "name": "stdout",
     "output_type": "stream",
     "text": [
      "Maximum value: 10\n"
     ]
    }
   ],
   "source": [
    "def unbounded_knapsack(weights, values, capacity):\n",
    "    n = len(weights)\n",
    "    dp = [0] * (capacity + 1)\n",
    "\n",
    "    for w in range(1, capacity + 1):\n",
    "        for i in range(n):\n",
    "            if weights[i] <= w:\n",
    "                dp[w] = max(dp[w], dp[w - weights[i]] + values[i])\n",
    "\n",
    "    return dp[capacity]\n",
    "\n",
    "# Example usage:\n",
    "weights = [2, 3, 4, 5]\n",
    "values = [3, 7, 2, 9]\n",
    "capacity = 5\n",
    "max_value = unbounded_knapsack(weights, values, capacity)\n",
    "\n",
    "print(\"Maximum value:\", max_value)"
   ]
  },
  {
   "cell_type": "markdown",
   "id": "d9e91ced",
   "metadata": {},
   "source": [
    "## LIS algo code"
   ]
  },
  {
   "cell_type": "code",
   "execution_count": 5,
   "id": "e07902ed",
   "metadata": {},
   "outputs": [
    {
     "name": "stdout",
     "output_type": "stream",
     "text": [
      "Length of Longest Increasing Subsequence: 5\n"
     ]
    }
   ],
   "source": [
    "def longest_increasing_subsequence(nums):\n",
    "    n = len(nums)\n",
    "    if n == 0:\n",
    "        return 0\n",
    "\n",
    "    dp = [1] * n\n",
    "\n",
    "    for i in range(1, n):\n",
    "        for j in range(i):\n",
    "            if nums[i] > nums[j]:\n",
    "                dp[i] = max(dp[i], dp[j] + 1)\n",
    "\n",
    "    return max(dp)\n",
    "\n",
    "# Example usage:\n",
    "nums = [10, 22, 9, 33, 21, 50, 41, 60]\n",
    "length_of_lis = longest_increasing_subsequence(nums)\n",
    "print(\"Length of Longest Increasing Subsequence:\", length_of_lis)"
   ]
  },
  {
   "cell_type": "code",
   "execution_count": null,
   "id": "f7bba597",
   "metadata": {},
   "outputs": [],
   "source": []
  }
 ],
 "metadata": {
  "kernelspec": {
   "display_name": "Python 3 (ipykernel)",
   "language": "python",
   "name": "python3"
  },
  "language_info": {
   "codemirror_mode": {
    "name": "ipython",
    "version": 3
   },
   "file_extension": ".py",
   "mimetype": "text/x-python",
   "name": "python",
   "nbconvert_exporter": "python",
   "pygments_lexer": "ipython3",
   "version": "3.9.13"
  }
 },
 "nbformat": 4,
 "nbformat_minor": 5
}
