{
 "cells": [
  {
   "cell_type": "markdown",
   "id": "39fd1fd1",
   "metadata": {},
   "source": [
    "## Stack Implementation"
   ]
  },
  {
   "cell_type": "code",
   "execution_count": 4,
   "id": "d8c963b9",
   "metadata": {},
   "outputs": [
    {
     "name": "stdout",
     "output_type": "stream",
     "text": [
      "is stack empty?: True\n",
      "is stack empty after pushing few elements?: False\n",
      "size of stack: 3\n",
      "peek topmost element on stack: 30\n",
      "After first pop: 30\n",
      "After Second pop: 20\n",
      "Size of stack after popping out 2 elements : 1\n",
      "pushing 40 and 50\n",
      "After popping them out:\n",
      "50\n",
      "40\n",
      "is the stack empty?: False\n"
     ]
    }
   ],
   "source": [
    "class Stack:\n",
    "    def __init__(self):\n",
    "        self.stack = []\n",
    "\n",
    "    def is_empty(self):\n",
    "        return len(self.stack) == 0\n",
    "\n",
    "    def push(self, item):\n",
    "        self.stack.append(item)\n",
    "\n",
    "    def pop(self):\n",
    "        if self.is_empty():\n",
    "            return \"Stack is empty\"\n",
    "        return self.stack.pop()\n",
    "\n",
    "    def peek(self):\n",
    "        if self.is_empty():\n",
    "            return \"Stack is empty\"\n",
    "        return self.stack[-1]\n",
    "\n",
    "    def size(self):\n",
    "        return len(self.stack)\n",
    "    \n",
    "    \n",
    "# Create a stack object\n",
    "stack = Stack()\n",
    "\n",
    "# Check if the stack is empty\n",
    "print(\"is stack empty?:\",stack.is_empty())  \n",
    "\n",
    "# Push elements onto the stack\n",
    "stack.push(10)\n",
    "stack.push(20)\n",
    "stack.push(30)\n",
    "\n",
    "# Check if the stack is empty after pushing elements\n",
    "print(\"is stack empty after pushing few elements?:\",stack.is_empty())  \n",
    "\n",
    "# Get the size of the stack\n",
    "print(\"size of stack:\",stack.size())  \n",
    "\n",
    "# Peek at the top element of the stack\n",
    "print(\"peek topmost element on stack:\",stack.peek())  \n",
    "\n",
    "# Pop elements from the stack\n",
    "print(\"After first pop:\",stack.pop())  \n",
    "print(\"After Second pop:\",stack.pop())  \n",
    "\n",
    "# Get the size of the stack after popping elements\n",
    "print('Size of stack after popping out 2 elements :',stack.size())  \n",
    "\n",
    "print(\"pushing 40 and 50\")\n",
    "# Push more elements onto the stack\n",
    "stack.push(40)\n",
    "stack.push(50)\n",
    "\n",
    "print(\"After popping them out:\")\n",
    "# Pop remaining elements from the stack\n",
    "print(stack.pop())  \n",
    "print(stack.pop())  \n",
    "\n",
    "# Check if the stack is empty after popping all elements\n",
    "print(\"is the stack empty?:\",stack.is_empty())  \n"
   ]
  },
  {
   "cell_type": "markdown",
   "id": "020426de",
   "metadata": {},
   "source": [
    "## Queue Implementation:"
   ]
  },
  {
   "cell_type": "code",
   "execution_count": 6,
   "id": "0062517a",
   "metadata": {},
   "outputs": [
    {
     "name": "stdout",
     "output_type": "stream",
     "text": [
      "is queue empty?: True\n",
      "enqueing 10,20,30\n",
      "peeking topmost element: 10\n",
      "removing top element: 10\n",
      "size of queue: 2\n",
      "is the queue empty?: False\n"
     ]
    }
   ],
   "source": [
    "class Queue:\n",
    "    def __init__(self):\n",
    "        self.queue = []\n",
    "\n",
    "    def is_empty(self):\n",
    "        return len(self.queue) == 0\n",
    "\n",
    "    def enqueue(self, item):\n",
    "        self.queue.append(item)\n",
    "\n",
    "    def dequeue(self):\n",
    "        if self.is_empty():\n",
    "            return \"Queue is empty\"\n",
    "        return self.queue.pop(0)\n",
    "\n",
    "    def peek(self):\n",
    "        if self.is_empty():\n",
    "            return \"Queue is empty\"\n",
    "        return self.queue[0]\n",
    "\n",
    "    def size(self):\n",
    "        return len(self.queue)\n",
    "\n",
    "\n",
    "queue = Queue()\n",
    "\n",
    "print(\"is queue empty?:\",queue.is_empty())  \n",
    "\n",
    "print(\"enqueing 10,20,30\")\n",
    "queue.enqueue(10)\n",
    "queue.enqueue(20)\n",
    "queue.enqueue(30)\n",
    "\n",
    "\n",
    "print(\"peeking topmost element:\",queue.peek())  \n",
    "\n",
    "print(\"removing top element:\",queue.dequeue()) \n",
    "\n",
    "print(\"size of queue:\",queue.size())\n",
    "\n",
    "print(\"is the queue empty?:\",queue.is_empty()) \n"
   ]
  },
  {
   "cell_type": "code",
   "execution_count": null,
   "id": "9ae595d0",
   "metadata": {},
   "outputs": [],
   "source": []
  }
 ],
 "metadata": {
  "kernelspec": {
   "display_name": "Python 3 (ipykernel)",
   "language": "python",
   "name": "python3"
  },
  "language_info": {
   "codemirror_mode": {
    "name": "ipython",
    "version": 3
   },
   "file_extension": ".py",
   "mimetype": "text/x-python",
   "name": "python",
   "nbconvert_exporter": "python",
   "pygments_lexer": "ipython3",
   "version": "3.9.13"
  }
 },
 "nbformat": 4,
 "nbformat_minor": 5
}
